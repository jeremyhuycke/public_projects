{
  "nbformat": 4,
  "nbformat_minor": 0,
  "metadata": {
    "colab": {
      "provenance": [],
      "include_colab_link": true
    },
    "kernelspec": {
      "name": "python3",
      "display_name": "Python 3"
    },
    "language_info": {
      "name": "python"
    }
  },
  "cells": [
    {
      "cell_type": "markdown",
      "metadata": {
        "id": "view-in-github",
        "colab_type": "text"
      },
      "source": [
        "<a href=\"https://colab.research.google.com/github/jeremyhuycke/public_projects/blob/main/Les_6_strings_oefeningen.ipynb\" target=\"_parent\"><img src=\"https://colab.research.google.com/assets/colab-badge.svg\" alt=\"Open In Colab\"/></a>"
      ]
    },
    {
      "cell_type": "markdown",
      "source": [
        "### Som van cijfers\n",
        "Laat de gebruiker een getal invoeren van minstens 5 cijfers. Het programma berekent de som van de cijfers van dit getal.\n",
        "\n",
        "\n",
        "```\n",
        "Gelieve een getal in te voeren van minstens 5 cijfers:\n",
        "> 15367\n",
        "De som is 22\n",
        "```\n",
        "\n"
      ],
      "metadata": {
        "id": "PHG3bR061AzL"
      }
    },
    {
      "cell_type": "code",
      "execution_count": null,
      "metadata": {
        "id": "lWKjDuQxzcHF",
        "colab": {
          "base_uri": "https://localhost:8080/"
        },
        "outputId": "885f07b5-417e-45af-c000-3d367331a0da"
      },
      "outputs": [
        {
          "output_type": "stream",
          "name": "stdout",
          "text": [
            "Geef een getal in van minstens 5 cijfers:\n",
            "16367\n",
            "De som is 23\n"
          ]
        }
      ],
      "source": [
        "# Schrijf je programma hieronder\n",
        "print(\"Geef een getal in van minstens 5 cijfers:\")\n",
        "getal = input()\n",
        "som = 0\n",
        "for cijfer in getal:\n",
        "  som += int(cijfer)\n",
        "print(f\"De som is {som}\")"
      ]
    },
    {
      "cell_type": "markdown",
      "source": [
        "### Naam uit e-mail\n",
        "Vraag de gebruiker om zijn e-mailadres in te voeren. Het programma print in hoofdletters het gedeelte dat de naam voorstelt.\n",
        "\n",
        "\n",
        "\n",
        "```\n",
        "Gelieve je e-mailadres in te voeren:\n",
        "> peter.poelman@groeipunt.be\n",
        "PETER.POELMAN\n",
        "```\n",
        "\n"
      ],
      "metadata": {
        "id": "NyfmZDHj5BQa"
      }
    },
    {
      "cell_type": "code",
      "source": [
        "# Schrijf je programma hieronder\n",
        "print(\"Gelieve je e-mailadres in te voeren:\")\n",
        "email = input()\n",
        "index = email.find(\"@\")\n",
        "print(email[:index].upper())"
      ],
      "metadata": {
        "id": "dN7g5VbK5FJ5"
      },
      "execution_count": null,
      "outputs": []
    },
    {
      "cell_type": "markdown",
      "source": [
        "### Toegangscode\n",
        "De gebruiker voert enkele persoonlijke gegevens in en op basis hiervan wordt een persoonlijke toegangscode gegenereerd.\n",
        "\n",
        "De code van vier tot vijf cijfers wordt als volgt bepaald:\n",
        "\n",
        "*   het eerste symbool is de voorlaatste letter van de naam, in kleine letters\n",
        "*   het tweede symbool is de laatste letter van de naam, in hoofdletters\n",
        "*   het derde symbool is het laatste cijfer van het geboortejaar\n",
        "*   het vierde (en eventueel vijfde) symbool is het eerste cijfer van de postcode, in het kwadraat\n",
        "\n",
        "\n",
        "```\n",
        "Geef je naam: > Peeters\n",
        "Geef je geboortejaar: > 1996\n",
        "Geef je postcode: > 9000\n",
        "Je toegangscode is rS681\n",
        "```\n",
        "\n",
        "\n",
        "\n"
      ],
      "metadata": {
        "id": "zRS18ohgPM8H"
      }
    },
    {
      "cell_type": "code",
      "source": [
        "# Schrijf je programma hieronder\n",
        "print(\"Geef je naam:\")\n",
        "naam = input()\n",
        "print(\"Geef je geboortejaar:\")\n",
        "geboortejaar = input()\n",
        "print(\"Geef je postcode:\")\n",
        "postcode = input()\n",
        "toegangscode = naam[-2]+naam[-1].upper()+geboortejaar[-1]+str(int(postcode[0])*int(postcode[0]))\n",
        "print(f\"Je toegangscode is {toegangscode}\")"
      ],
      "metadata": {
        "id": "1Z0-CetgPQwk",
        "colab": {
          "base_uri": "https://localhost:8080/"
        },
        "outputId": "567cd6ff-63de-43ea-faf0-6775d9687785"
      },
      "execution_count": null,
      "outputs": [
        {
          "output_type": "stream",
          "name": "stdout",
          "text": [
            "Geef je naam:\n",
            "Peeters\n",
            "Geef je geboortejaar:\n",
            "1996\n",
            "Geef je postcode:\n",
            "9000\n",
            "Je toegangscode is rS681\n"
          ]
        }
      ]
    },
    {
      "cell_type": "markdown",
      "source": [
        "### Gebruikersinstructies\n",
        "We willen met behulp van een programma instructies genereren voor de gebruiker. \n",
        "\n",
        "Op basis van de voornaam van de student en de naam van de cursus wordt de map gegeven die de student moet aanmaken: \\\\home\\\\, eerste 3 letters voornaam (in hoofdletters) met submap de naam van de cursus (in kleine letters). Eventuele spaties in de naam van de cursus worden omgezet naar underscores (_).\n",
        "\n",
        "\n",
        "\n",
        "```\n",
        "Wat is je voornaam?\n",
        "> Guido\n",
        "Wat is de naam van de cursus?\n",
        "> Python vervolg\n",
        "Maak een map aan als volgt: \\home\\GUI\\python_vervolg\n",
        "```\n",
        "\n"
      ],
      "metadata": {
        "id": "QuikY1JhTtuc"
      }
    },
    {
      "cell_type": "code",
      "source": [
        "# Schrijf je programma hieronder\n",
        "print(\"Wat is je voornaam?\")\n",
        "voornaam = input()\n",
        "print(\"Wat is de naam van de cursus?\")\n",
        "cursus = input()\n",
        "nieuw_cursus = cursus.replace(\" \",\"_\").lower()\n",
        "path = \"\\\\home\\\\\"+voornaam[:3].upper()+\"\\\\\"+nieuw_cursus\n",
        "\n",
        "print(f\"Maak een map als volgt: {path}\")"
      ],
      "metadata": {
        "id": "w2C6tBamUa4D",
        "colab": {
          "base_uri": "https://localhost:8080/"
        },
        "outputId": "efc91156-3c7b-4d43-f330-ee662bd19b15"
      },
      "execution_count": null,
      "outputs": [
        {
          "output_type": "stream",
          "name": "stdout",
          "text": [
            "Wat is je voornaam?\n",
            "Guido\n",
            "Wat is de naam van de cursus?\n",
            "Python vervolg\n",
            "Maak een map als volgt: \\home\\GUI\\python_vervolg\n"
          ]
        }
      ]
    },
    {
      "cell_type": "markdown",
      "source": [
        "### Getallen sorteren\n",
        "De gebruiker voert een willekeurig aantal getallen in gescheiden door komma's. Het programma toont alle ingevoerde getallen, gerangschikt van groot naar klein.\n",
        "\n",
        "\n",
        "```\n",
        "Geef een reeks getallen gescheiden door komma's:\n",
        "> 1,2,3,9,7\n",
        "Van hoog naar laag: 9-7-3-2-1\n",
        "```\n",
        "\n"
      ],
      "metadata": {
        "id": "6q5DrQfvZybJ"
      }
    },
    {
      "cell_type": "code",
      "source": [
        "# Schrijf je programma hieronder\n",
        "print(\"Geef een reeks getallen gescheiden door komma's:\")\n",
        "getallen = input()\n",
        "\n",
        "list_getallen = getallen.split(\",\") # converteren van input naar list\n",
        "list_getallen = [int(i) for i in list_getallen] # converteren naar int\n",
        "list_getallen.sort(reverse = True) # sorteren\n",
        "\n",
        "# str_getal = \"\"\n",
        "# for getal in list_getallen:\n",
        "#   str_getal = str_getal +\"-\"+ str(getal)\n",
        "# print(f\"Van hoog naar laag: {str_getal[1:]}\")\n",
        "\n",
        "print(\"Van hoog naar laag: \",end='')\n",
        "print(*list_getallen,sep='-')"
      ],
      "metadata": {
        "id": "Q4FQd7YVbFPm",
        "colab": {
          "base_uri": "https://localhost:8080/"
        },
        "outputId": "1760aeae-817f-426f-ff9c-cbabcf4ce8b6"
      },
      "execution_count": null,
      "outputs": [
        {
          "output_type": "stream",
          "name": "stdout",
          "text": [
            "Geef een reeks getallen gescheiden door komma's:\n",
            "1,3,7,55,8\n",
            "Van hoog naar laag: 55-8-7-3-1\n"
          ]
        }
      ]
    },
    {
      "cell_type": "markdown",
      "source": [
        "### * Dieren zoeken\n",
        "Schrijf een programma dat zoekt welke dieren verborgen zitten in een zin.\n",
        "\n",
        "\n",
        "\n",
        "```\n",
        "Doe nooit teveel boter in de pan! Dat is ongezond.\n",
        "\n",
        "Gevonden dieren: ooi, panda\n",
        "```\n",
        "\n"
      ],
      "metadata": {
        "id": "bsfHy8Jogut2"
      }
    },
    {
      "cell_type": "code",
      "source": [
        "input = \"Doe nooit teveel boter in de pan! Dat is ongezond.\"\n",
        "\n",
        "dieren = [\"aap\",\"apin\",\"beer\",\"berin\",\"big\",\"bok\",\"bul\",\"cavia\",\"dar\",\"das\",\\\n",
        "          \"dolfijn\",\"duif\",\"duivin\",\"eend\",\"eland\",\"everzwijn\",\"ezel\",\"ezelhengst\",\\\n",
        "          \"ezelin\",\"fazant\",\"fret\",\"gans\",\"geit\",\"haan\",\"haas\",\"hen\",\"hengst\",\"hert\",\\\n",
        "          \"hinde\",\"hoen\",\"hond\",\"honingbij\",\"kalkoen\",\"kanarie\",\"kanariepiet\",\"kat\",\\\n",
        "          \"kater\",\"kikker\",\"kip\",\"kloek\",\"klokhen\",\"koe\",\"konijn\",\"koningin\",\"leeuw\",\\\n",
        "          \"leeuwin\",\"meikever\",\"merrie\",\"moer\",\"nerts\",\"neushoorn\",\"olifant\",\"ooi\",\\\n",
        "          \"paard\",\"paling\",\"panda\",\"poes\",\"pop\",\"ram\",\"rammelaar\",\"ree\",\"rekel\",\"reu\",\\\n",
        "          \"rund\",\"schaap\",\"sperwer\",\"stier\",\"teef\",\"tijger\",\"tijgerin\",\"uil\",\"valk\",\\\n",
        "          \"varken\",\"vis\",\"vlieg\",\"vlinder\",\"voedster\",\"vos\",\"walvis\",\"werkster\",\\\n",
        "          \"wijfje\",\"woerd\",\"woerhaan\",\"woerhen\",\"wolf\",\"wolvin\",\"zeehond\",\"zeug\"]\n",
        "\n",
        "# Schrijf je programma hieronder\n",
        "\n",
        "special_chars = \" !@#$%^&*().,;\"\n",
        "input_nieuw = \"\"\n",
        "output = []\n",
        "\n",
        "for letter in input:\n",
        "  if letter in special_chars:\n",
        "    input_nieuw = input_nieuw + \"\"\n",
        "  else:\n",
        "    input_nieuw = input_nieuw + letter.lower()\n",
        "\n",
        "for woord in dieren:\n",
        "  if woord in input_nieuw:\n",
        "    output.append(woord)\n",
        "\n",
        "print(\"Gevonden dieren: \",end='')\n",
        "print(*output,sep=\", \")"
      ],
      "metadata": {
        "id": "_FHUxGeihAcY",
        "colab": {
          "base_uri": "https://localhost:8080/"
        },
        "outputId": "b9562e42-38b6-48ef-8443-c34acf1ea8f7"
      },
      "execution_count": null,
      "outputs": [
        {
          "output_type": "stream",
          "name": "stdout",
          "text": [
            "Gevonden dieren: ooi, panda\n"
          ]
        }
      ]
    }
  ]
}